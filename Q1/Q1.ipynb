{
  "nbformat": 4,
  "nbformat_minor": 0,
  "metadata": {
    "colab": {
      "provenance": []
    },
    "kernelspec": {
      "name": "python3",
      "display_name": "Python 3"
    },
    "language_info": {
      "name": "python"
    }
  },
  "cells": [
    {
      "cell_type": "markdown",
      "source": [
        "# **Probleme Statement**:\n",
        "\n",
        "# The probability of rain on a given calendar day in Vancouver is represented by 𝑝[𝑖], where 𝑖 is the day's index. For example, 𝑝[0] is the probability of rain on January 1st, and 𝑝[10] is the probability of precipitation on January 11th. Assume the year has 365 days (i.e.,𝑝 has 365 elements). What is the probability that it rains on more than 𝑛 days (e.g., 100) in Vancouver? Write a function that accepts 𝑝 (probabilities of rain on a given calendar day) and 𝑛 as input arguments and returns the probability of raining on more than 𝑛 days."
      ],
      "metadata": {
        "id": "n1jubkF18jCM"
      }
    },
    {
      "cell_type": "markdown",
      "source": [
        "# **Assumptions**\n",
        "\n",
        "#1. Independent Events: Each day's rain probability is independent of other days.\n",
        "#2. 365 Days: The year is assumed to have exactly 365 days.\n",
        "#3. Rain events are binary (it either rains or doesn't on a given day)\n"
      ],
      "metadata": {
        "id": "RCQ97gkaF73i"
      }
    },
    {
      "cell_type": "code",
      "source": [],
      "metadata": {
        "id": "D6LjjfVQSBY4"
      },
      "execution_count": null,
      "outputs": []
    },
    {
      "cell_type": "markdown",
      "source": [
        "# **Solution Approach**\n",
        "#1. This is a probability problem involving Bernoulli trials (each day either rains or doesn't). For each day i, we have an independent probability p[i] of rain.\n",
        "#2. We want P(X ≥ n) where X is the number of rainy days in a year.\n",
        "#3. This follows a Poisson-Binomial distribution (generalization of Binomial for different probabilities).\n",
        "#4. Use dynamic programming to calculate the probability distribution (To efficiently handle the combinatorial explosion of possibilities).\n",
        "#5. For each day, calculate probability of having k rainy days including current day.\n",
        "#6.Final answer is sum of probabilities for k ≥ n.\n"
      ],
      "metadata": {
        "id": "_wK7jwCa_JQb"
      }
    },
    {
      "cell_type": "code",
      "source": [
        "from typing import Sequence\n",
        "import numpy as np\n",
        "\n",
        "def prob_rain_more_than_n(p: Sequence[float], n: int) -> float:\n",
        "    # Validate inputs\n",
        "    if not 0 <= n <= len(p):\n",
        "        raise ValueError(\"n must be between 0 and number of days\")\n",
        "    if not all(0 <= prob <= 1 for prob in p):\n",
        "        raise ValueError(\"All probabilities must be between 0 and 1\")\n",
        "\n",
        "    # Initialize DP array\n",
        "    # dp[i][j] = probability of having j rainy days after i days\n",
        "    dp = np.zeros((len(p) + 1, len(p) + 1))\n",
        "    dp[0][0] = 1.0  # Base case: 0 rainy days after 0 days\n",
        "\n",
        "    # For each day\n",
        "    for i in range(len(p)):\n",
        "        rain_prob = p[i]\n",
        "        # For each possible number of rainy days so far\n",
        "        for j in range(i + 1):\n",
        "            # Don't rain on current day\n",
        "            dp[i + 1][j] += dp[i][j] * (1 - rain_prob)\n",
        "            # Rain on current day\n",
        "            dp[i + 1][j + 1] += dp[i][j] * rain_prob\n",
        "\n",
        "    # Sum probabilities for n or more rainy days\n",
        "    result = sum(dp[len(p)][j] for j in range(n, len(p) + 1))\n",
        "    return result\n",
        "\n",
        "# Example\n",
        "if __name__ == \"__main__\":\n",
        "    # Example with 5 days and constant rain probability\n",
        "    example_p = [0.5, 0.5, 0.5, 0.5, 0.5]\n",
        "    n = 3\n",
        "    result = prob_rain_more_than_n(example_p, n)\n",
        "    print(f\"Probability of {n} or more rainy days: {result:.4f}\")\n",
        "\n",
        "    # Example with 365 days and varying probabilities\n",
        "    yearly_p = [0.3 + 0.1 * np.sin(2 * np.pi * i / 365) for i in range(365)]  # More rain in \"winter\"\n",
        "    n = 100\n",
        "    result = prob_rain_more_than_n(yearly_p, n)\n",
        "    print(f\"Probability of {n} or more rainy days in a year: {result:.4f}\")\n"
      ],
      "metadata": {
        "colab": {
          "base_uri": "https://localhost:8080/"
        },
        "id": "RBwrLEpcTLO-",
        "outputId": "6487238c-de4f-4eb6-b631-9013ca5f5d85"
      },
      "execution_count": 1,
      "outputs": [
        {
          "output_type": "stream",
          "name": "stdout",
          "text": [
            "Probability of 3 or more rainy days: 0.5000\n",
            "Probability of 100 or more rainy days in a year: 0.8767\n"
          ]
        }
      ]
    },
    {
      "cell_type": "code",
      "execution_count": null,
      "metadata": {
        "id": "gIPYRh118Avv"
      },
      "outputs": [],
      "source": []
    }
  ]
}