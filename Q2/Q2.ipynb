{
  "nbformat": 4,
  "nbformat_minor": 0,
  "metadata": {
    "colab": {
      "provenance": []
    },
    "kernelspec": {
      "name": "python3",
      "display_name": "Python 3"
    },
    "language_info": {
      "name": "python"
    }
  },
  "cells": [
    {
      "cell_type": "markdown",
      "source": [
        "# **Probleme Statement**:\n",
        "\n",
        "# A phoneme is a sound unit (similar to a character for text). We have an extensive pronunciation dictionary (think millions of words). Below is a snippet:\n",
        "# ABACUS AE B AH K AH S\n",
        "# BOOK B UH K\n",
        "#THEIR DH EH R\n",
        "#THERE DH EH R\n",
        "#TOMATO T AH M AA T OW\n",
        "#TOMATO T AH M EY T OW\n",
        "\n",
        "#Given a sequence of phonemes as input (e.g. [\"DH\", \"EH\", \"R\", \"DH\", \"EH\", \"R\"]), find all the combinations of the words that can produce this sequence (e.g. [[\"THEIR\", \"THEIR\"], [\"THEIR\", \"THERE\"], [\"THERE\", \"THEIR\"], [\"THERE\", \"THERE\"]]). You can preprocess the dictionary into a different data structure if needed."
      ],
      "metadata": {
        "id": "tQ_nMCHhfnoU"
      }
    },
    {
      "cell_type": "markdown",
      "source": [
        "# **Solution Approach**\n",
        "\n",
        "#1. First, we need to create a data structure to store the dictionary:\n",
        "    > We'll create a dictionary where key is the phoneme sequence and value is a list of words;\n",
        "    > This will help us quickly look up words given a phoneme sequence.\n",
        "#2. For the input sequence:\n",
        "    > We need to find all possible ways to split the sequence into valid words;\n",
        "    > This is similar to word break problem but we need all combinations.\n",
        "#3. We can solve this using:\n",
        "    > Dynamic programming or recursion to find all possible splits;\n",
        "    > For each split, check if it exists in our preprocessed dictionary.\n",
        "\n",
        "\n",
        "# ***Note***:\n",
        "We could considere this problem as Seq2Seq Task and use deep learning to solve it:\n",
        "\n",
        "**Input**: Phoneme sequence (e.g., [\"DH\", \"EH\", \"R\", \"DH\", \"EH\", \"R\"]);\n",
        "\n",
        "**Output**: Multiple word sequences (e.g., [\"THEIR\", \"THERE\"]);\n",
        "Similar to machine translation but with one-to-many mapping.\n"
      ],
      "metadata": {
        "id": "RYhMf5VmfnZS"
      }
    },
    {
      "cell_type": "code",
      "source": [],
      "metadata": {
        "id": "_Ra_-UFI-OWn"
      },
      "execution_count": null,
      "outputs": []
    },
    {
      "cell_type": "code",
      "source": [
        "class PhonemeSequenceSolver:\n",
        "    def __init__(self):\n",
        "        # Dictionary to store phoneme sequence -> words mapping\n",
        "        self.phoneme_dict = {}\n",
        "\n",
        "    def add_word(self, word, phonemes):\n",
        "        \"\"\"Add a word and its phonemes to the dictionary\"\"\"\n",
        "        # Convert phoneme list to tuple for hashability\n",
        "        phoneme_key = tuple(phonemes)\n",
        "        if phoneme_key not in self.phoneme_dict:\n",
        "            self.phoneme_dict[phoneme_key] = []\n",
        "        self.phoneme_dict[phoneme_key].append(word)\n",
        "\n",
        "    def find_word_combinations(self, phoneme_sequence):\n",
        "        \"\"\"Find all possible word combinations that match the phoneme sequence\"\"\"\n",
        "        def find_combinations_helper(start, memo):\n",
        "            if start >= len(phoneme_sequence):\n",
        "                return [[]]\n",
        "\n",
        "            if start in memo:\n",
        "                return memo[start]\n",
        "\n",
        "            results = []\n",
        "            # Try all possible lengths for the first word\n",
        "            for end in range(start + 1, len(phoneme_sequence) + 1):\n",
        "                current_sequence = tuple(phoneme_sequence[start:end])\n",
        "\n",
        "                # If this sequence exists in our dictionary\n",
        "                if current_sequence in self.phoneme_dict:\n",
        "                    # Recursively find combinations for the remaining sequence\n",
        "                    suffix_combinations = find_combinations_helper(end, memo)\n",
        "\n",
        "                    # Add each word that matches current_sequence to each suffix combination\n",
        "                    for word in self.phoneme_dict[current_sequence]:\n",
        "                        for suffix in suffix_combinations:\n",
        "                            results.append([word] + suffix)\n",
        "\n",
        "            memo[start] = results\n",
        "            return results\n",
        "\n",
        "        return find_combinations_helper(0, {})\n",
        "\n",
        "# Example\n",
        "def main():\n",
        "    # Create solver instance\n",
        "    solver = PhonemeSequenceSolver()\n",
        "\n",
        "    # Add sample dictionary entries\n",
        "    dictionary = {\n",
        "        \"ABACUS\": [\"AE\", \"B\", \"AH\", \"K\", \"AH\", \"S\"],\n",
        "        \"BOOK\": [\"B\", \"UH\", \"K\"],\n",
        "        \"THEIR\": [\"DH\", \"EH\", \"R\"],\n",
        "        \"THERE\": [\"DH\", \"EH\", \"R\"],\n",
        "        \"TOMATO\": [\"T\", \"AH\", \"M\", \"AA\", \"T\", \"OW\"]\n",
        "    }\n",
        "\n",
        "    # Add all words to the solver\n",
        "    for word, phonemes in dictionary.items():\n",
        "        solver.add_word(word, phonemes)\n",
        "\n",
        "    # Test with example sequence\n",
        "    test_sequence = [\"DH\", \"EH\", \"R\", \"DH\", \"EH\", \"R\"]\n",
        "    combinations = solver.find_word_combinations(test_sequence)\n",
        "\n",
        "    print(\"Input sequence:\", test_sequence)\n",
        "    print(\"\\nPossible word combinations:\")\n",
        "    for combo in combinations:\n",
        "        print(combo)\n",
        "\n",
        "if __name__ == \"__main__\":\n",
        "    main()"
      ],
      "metadata": {
        "colab": {
          "base_uri": "https://localhost:8080/"
        },
        "id": "wLC3tZxeegqC",
        "outputId": "e5fd778a-297b-45ed-e4fb-030196a37734"
      },
      "execution_count": 1,
      "outputs": [
        {
          "output_type": "stream",
          "name": "stdout",
          "text": [
            "Input sequence: ['DH', 'EH', 'R', 'DH', 'EH', 'R']\n",
            "\n",
            "Possible word combinations:\n",
            "['THEIR', 'THEIR']\n",
            "['THEIR', 'THERE']\n",
            "['THERE', 'THEIR']\n",
            "['THERE', 'THERE']\n"
          ]
        }
      ]
    },
    {
      "cell_type": "code",
      "execution_count": null,
      "metadata": {
        "id": "Jkkxtc9sec8c"
      },
      "outputs": [],
      "source": []
    }
  ]
}